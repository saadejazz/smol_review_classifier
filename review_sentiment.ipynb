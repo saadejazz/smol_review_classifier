{
 "cells": [
  {
   "cell_type": "code",
   "execution_count": 1,
   "id": "036f3ed5",
   "metadata": {},
   "outputs": [],
   "source": [
    "from collections import Counter\n",
    "import matplotlib.pyplot as plt\n",
    "import string\n",
    "import random\n",
    "random.seed(100)"
   ]
  },
  {
   "cell_type": "markdown",
   "id": "8a088219",
   "metadata": {},
   "source": [
    "## Cleaning text and extracting feature vectors (Deliverable 1)\n",
    "\n",
    "Two functions are defined: ```cleanText``` that removes punctuations and new lines, thereby cleaning the review; and ```extractWordFeatures``` creates a dictionary with counts of each word in a review"
   ]
  },
  {
   "cell_type": "code",
   "execution_count": 2,
   "id": "e478175a",
   "metadata": {},
   "outputs": [],
   "source": [
    "def cleanText(s):\n",
    "    '''\n",
    "    Returns string after removing punctuations and new lines, and separating concatenated words\n",
    "    '''\n",
    "    s = s.replace(\"-\", \" \")\n",
    "    s = s.translate(str.maketrans('', '', string.punctuation))\n",
    "    s = s.lower().replace(\"\\n\", \"\").split()\n",
    "    return \" \".join(s)\n",
    "\n",
    "def extractWordFeatures(x):\n",
    "    '''\n",
    "    Returns a feature vector from a supplied review\n",
    "    '''\n",
    "    return dict(Counter(x.split()))"
   ]
  },
  {
   "cell_type": "markdown",
   "id": "3ebe2760",
   "metadata": {},
   "source": [
    "## Loading Data  \n",
    "\n",
    "Data is loaded from the text file, and the reviews and their labels are separated. An example is also shown below."
   ]
  },
  {
   "cell_type": "code",
   "execution_count": 3,
   "id": "fc1225f3",
   "metadata": {},
   "outputs": [
    {
     "name": "stdout",
     "output_type": "stream",
     "text": [
      "Total number of datapoints:  3554\n",
      "Example datapoint before feature extraction:  ('steven soderbergh doesnt remake andrei tarkovskys solaris so much as distill it', 1)\n"
     ]
    }
   ],
   "source": [
    "f = open(\"Dataset.txt\", \"r\")\n",
    "lines = f.readlines()\n",
    "f.close()\n",
    "\n",
    "data = [(cleanText(a.partition(\" \")[2]), 1 if a[:2] == \"+1\" else -1) for a in lines]\n",
    "random.shuffle(data)\n",
    "\n",
    "print(\"Total number of datapoints: \", len(data))\n",
    "print(\"Example datapoint before feature extraction: \", data[random.randint(0, 1000)])"
   ]
  },
  {
   "cell_type": "markdown",
   "id": "799eb95a",
   "metadata": {},
   "source": [
    "## Splitting the Dataset  \n",
    "\n",
    "70% of the dataset is kept for training purposes, while the rest is used for validation."
   ]
  },
  {
   "cell_type": "code",
   "execution_count": 4,
   "id": "51467825",
   "metadata": {},
   "outputs": [],
   "source": [
    "# train-test split\n",
    "cutoff = 0.7\n",
    "num_train = round(len(data) * cutoff)\n",
    "\n",
    "train_data = data[:num_train]\n",
    "test_data = data[num_train:]"
   ]
  },
  {
   "cell_type": "markdown",
   "id": "efbe75f5",
   "metadata": {},
   "source": [
    "## Training and Prediction (Deliverable 2)  \n",
    "\n",
    "Training examples are used to train the linear classifier using stochastic gradient descent over hinge loss. Training and Validation errors are plotted against iterations to verify. The results are shown below."
   ]
  },
  {
   "cell_type": "code",
   "execution_count": 5,
   "id": "fb123725",
   "metadata": {},
   "outputs": [],
   "source": [
    "def learnPredictor(trainExamples, validationExamples, featureExtractor = extractWordFeatures, numIters = 50, eta = 0.05):\n",
    "    '''\n",
    "    Given |trainExamples| and |validationExamples| (each one is a list of (x,y) pairs), a\n",
    "    |featureExtractor| to apply to x, and the number of iterations to train |numIters|, the step\n",
    "    size |eta|, return the weight vector learned.\n",
    "    '''\n",
    "    \n",
    "    # defining a lambda function to stringify classes\n",
    "    stringify = lambda clas: \"positive\" if clas == 1 else \"negative\"\n",
    "    \n",
    "    # determining number of features\n",
    "    m = set(\" \".join([a[0] for a in trainExamples + validationExamples]).split())\n",
    "    print(\"Number of features: \", len(m), \"\\n\")\n",
    "    \n",
    "    # feature extraction for training and validation data \n",
    "    trainExamples = [(extractWordFeatures(a[0]), a[1]) for a in trainExamples]\n",
    "    validationExamples = [(extractWordFeatures(a[0]), a[1]) for a in validationExamples]\n",
    "    \n",
    "    # displaying one example of extracted features\n",
    "    random.shuffle(trainExamples)\n",
    "    example = trainExamples[0]\n",
    "    print(\"Example of an extracted feature vector:\\n\", example[0])\n",
    "    print(\"Class for this example: \", stringify(example[1]), \"\\n\")\n",
    "    \n",
    "    # intializing weight vector. Random initialization is chosen\n",
    "    w = {word: random.random()/10 for word in m}\n",
    "\n",
    "    # loss history for plotting\n",
    "    trainErrorHistory = []\n",
    "    validErrorHistory = []\n",
    "    \n",
    "    for i in range(numIters):\n",
    "        trainError = 100 - computeAccuracy(trainExamples, w)\n",
    "        validError = 100 - computeAccuracy(validationExamples, w)\n",
    "        trainErrorHistory.append(trainError)\n",
    "        validErrorHistory.append(validError)\n",
    "        \n",
    "        if (i%5 == 0):\n",
    "            accuracy = computeAccuracy(trainExamples, w)\n",
    "            print(\"After \", i, \" iterations: \", \n",
    "                  \"training error: \", trainError, \n",
    "                  \", validation error:\", validError)\n",
    "        \n",
    "        # cautionary shuffle\n",
    "        random.shuffle(trainExamples)\n",
    "        \n",
    "        # stochastic gradient descent. Update on each example\n",
    "        for example in trainExamples:\n",
    "            x = example[0]\n",
    "            y = example[1]\n",
    "            multiplier = gradientHinge(x, y, w)\n",
    "            \n",
    "            # updating\n",
    "            for key in x:\n",
    "                w[key] -= eta * multiplier * x[key]\n",
    "            \n",
    "    # plotting loss \n",
    "    plt.plot(range(1, len(trainErrorHistory) + 1), trainErrorHistory, \"r-\", label = \"Training Error\")\n",
    "    plt.plot(range(1, len(validErrorHistory) + 1), validErrorHistory, \"b-\", label = \"Validation Error\")\n",
    "    plt.title(\"Error Decay\")\n",
    "    plt.xlabel(\"Number of Iterations\")\n",
    "    plt.ylabel(\"Error (%)\")\n",
    "    plt.legend()\n",
    "    plt.show()\n",
    "    \n",
    "    print()\n",
    "    # final accuracy on training data\n",
    "    print(\"Training data accuracy: \", computeAccuracy(trainExamples, w), \"%\")\n",
    "    \n",
    "    #final accaccuracy on testing data\n",
    "    print(\"Validation data accuracy: \", computeAccuracy(validationExamples, w), \"%\")\n",
    "    \n",
    "    return w"
   ]
  },
  {
   "cell_type": "markdown",
   "id": "309c6f4d",
   "metadata": {},
   "source": [
    "## Helper Functions"
   ]
  },
  {
   "cell_type": "code",
   "execution_count": 6,
   "id": "eb4ed8f5",
   "metadata": {},
   "outputs": [],
   "source": [
    "def hingeLoss(x, y, w):\n",
    "    '''\n",
    "    Returns the hinge loss for a single example\n",
    "    '''\n",
    "    return max((0, 1 - dot(x, w) * y))\n",
    "        \n",
    "def dot(dat, weight):\n",
    "    '''\n",
    "    Returns the dot product for a feature vector (dict) and a weight vector (dict)\n",
    "    '''\n",
    "    return sum([dat[key] * weight[key] for key in dat])\n",
    "\n",
    "def gradientHinge(x, y, w):\n",
    "    '''\n",
    "    Returns the gradient multiplier of the hingle loss for a single example\n",
    "    '''\n",
    "    if dot(x, w) * y >= 1:\n",
    "        return 0\n",
    "    return -y\n",
    "\n",
    "def computeLoss(data, w):\n",
    "    '''\n",
    "    Returns the average loss over a dataset\n",
    "    '''\n",
    "    m = len(data)\n",
    "    return sum([hingeLoss(a[0], a[1], w) for a in data])/m\n",
    "\n",
    "def computeAccuracy(data, w):\n",
    "    '''\n",
    "    Returns the accuracy of the predictions over a dataset\n",
    "    '''\n",
    "    m = len(data)\n",
    "    true_labels = [a[1] for a in data]\n",
    "    pred_labels = [dot(a[0], w) >= 0 for a in data] # >= sign denotes that a 0 score is taken as positive\n",
    "    pred_labels = [1 if a else -1 for a in pred_labels]\n",
    "    \n",
    "    # counting correct predictions\n",
    "    correct = 0\n",
    "    for (a, b) in zip(pred_labels, true_labels):\n",
    "        if a == b:\n",
    "            correct += 1\n",
    "            \n",
    "    return correct * 100 / m"
   ]
  },
  {
   "cell_type": "markdown",
   "id": "85cffdc1",
   "metadata": {},
   "source": [
    "## Final Results"
   ]
  },
  {
   "cell_type": "code",
   "execution_count": 7,
   "id": "b793275f",
   "metadata": {
    "scrolled": false
   },
   "outputs": [
    {
     "name": "stdout",
     "output_type": "stream",
     "text": [
      "Number of features:  10862 \n",
      "\n",
      "Example of an extracted feature vector:\n",
      " {'propelled': 1, 'not': 1, 'by': 2, 'characters': 1, 'but': 1, 'caricatures': 1}\n",
      "Class for this example:  negative \n",
      "\n",
      "After  0  iterations:  training error:  50.08038585209003 , validation error: 50.469043151969984\n",
      "After  5  iterations:  training error:  3.778135048231505 , validation error: 29.08067542213884\n",
      "After  10  iterations:  training error:  0.3617363344051512 , validation error: 29.174484052532833\n",
      "After  15  iterations:  training error:  0.040192926045023114 , validation error: 29.643527204502817\n",
      "After  20  iterations:  training error:  0.0 , validation error: 29.268292682926827\n",
      "After  25  iterations:  training error:  0.0 , validation error: 28.986866791744845\n",
      "After  30  iterations:  training error:  0.0 , validation error: 28.611632270168855\n",
      "After  35  iterations:  training error:  0.0 , validation error: 29.268292682926827\n",
      "After  40  iterations:  training error:  0.0 , validation error: 28.611632270168855\n",
      "After  45  iterations:  training error:  0.0 , validation error: 28.611632270168855\n"
     ]
    },
    {
     "data": {
      "image/png": "[encoded data removed]",
      "text/plain": [
       "<Figure size 432x288 with 1 Axes>"
      ]
     },
     "metadata": {
      "needs_background": "light"
     },
     "output_type": "display_data"
    },
    {
     "name": "stdout",
     "output_type": "stream",
     "text": [
      "\n",
      "Training data accuracy:  100.0 %\n",
      "Validation data accuracy:  71.38836772983115 %\n"
     ]
    }
   ],
   "source": [
    "w = learnPredictor(train_data, test_data)"
   ]
  }
 ],
 "metadata": {
  "kernelspec": {
   "display_name": "Python 3",
   "language": "python",
   "name": "python3"
  },
  "language_info": {
   "codemirror_mode": {
    "name": "ipython",
    "version": 3
   },
   "file_extension": ".py",
   "mimetype": "text/x-python",
   "name": "python",
   "nbconvert_exporter": "python",
   "pygments_lexer": "ipython3",
   "version": "3.8.8"
  }
 },
 "nbformat": 4,
 "nbformat_minor": 5
}
